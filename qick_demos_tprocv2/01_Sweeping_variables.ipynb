{
 "cells": [
  {
   "cell_type": "markdown",
   "metadata": {},
   "source": [
    "# <center> Sweeping variables in tproc v2 demonstration\n",
    "\n",
    "<center> In this demo you will sweep the amplitude of a pulse in loopback to demonstrate control over the QICK. \n"
   ]
  },
  {
   "cell_type": "markdown",
   "metadata": {},
   "source": [
    "Imports"
   ]
  },
  {
   "cell_type": "code",
   "execution_count": null,
   "metadata": {},
   "outputs": [],
   "source": [
    "# jupyter setup boilerplate\n",
    "%matplotlib inline\n",
    "import matplotlib.pyplot as plt\n",
    "import numpy as np\n",
    "\n",
    "from qick import *\n",
    "\n",
    "# for now, all the tProc v2 classes need to be individually imported (can't use qick.*)\n",
    "\n",
    "# the main program class\n",
    "from qick.asm_v2 import AveragerProgramV2\n",
    "# for defining sweeps\n",
    "from qick.asm_v2 import QickSpan, QickSweep1D"
   ]
  },
  {
   "cell_type": "markdown",
   "metadata": {},
   "source": [
    "Connect to RFSoC using Pyro4"
   ]
  },
  {
   "cell_type": "code",
   "execution_count": null,
   "metadata": {},
   "outputs": [],
   "source": [
    "import Pyro4\n",
    "from qick import QickConfig\n",
    "Pyro4.config.SERIALIZER = \"pickle\"\n",
    "Pyro4.config.PICKLE_PROTOCOL_VERSION=4\n",
    "\n",
    "ns_host = \"192.168.1.135\"\n",
    "ns_port = 8000\n",
    "proxy_name = \"rfsoc\"\n",
    "\n",
    "ns = Pyro4.locateNS(host=ns_host, port=ns_port)\n",
    "soc = Pyro4.Proxy(ns.lookup(proxy_name))\n",
    "soccfg = QickConfig(soc.get_cfg())\n",
    "print(soccfg)"
   ]
  },
  {
   "cell_type": "markdown",
   "metadata": {},
   "source": [
    "### Hardware Configuration"
   ]
  },
  {
   "cell_type": "code",
   "execution_count": null,
   "metadata": {},
   "outputs": [],
   "source": [
    "# DAC Signal Generating Channels\n",
    "GEN_CH0 = 0\n",
    "GEN_CH1 = 1\n",
    "GEN_CH2 = 2\n",
    "GEN_CH3 = 3\n",
    "GEN_CH4 = 4\n",
    "GEN_CH5 = 5\n",
    "GEN_CH6 = 6\n",
    "GEN_CH7 = 7\n",
    "GEN_CH8 = 8\n",
    "GEN_CH9 = 9\n",
    "GEN_CH10 = 10\n",
    "GEN_CH11 = 11\n",
    "\n",
    "# ADC Readout Channels\n",
    "RO_CH0 = 0\n",
    "RO_CH1 = 1\n",
    "RO_CH2 = 2\n",
    "RO_CH3 = 3\n",
    "RO_CH4 = 4\n",
    "RO_CH5 = 5"
   ]
  },
  {
   "cell_type": "markdown",
   "metadata": {},
   "source": [
    "### Basic Sweep Programs (1 Dimensional)\n",
    "\n",
    "First, we will sweep over the amplitdue (gain) of the pulse"
   ]
  },
  {
   "cell_type": "code",
   "execution_count": null,
   "metadata": {},
   "outputs": [],
   "source": [
    "class SimpleSweepProgram(AveragerProgramV2):\n",
    "    def _initialize(self, cfg):\n",
    "        ro_ch = cfg['ro_ch']\n",
    "        gen_ch = cfg['gen_ch']\n",
    "        \n",
    "        self.declare_gen(ch=gen_ch, nqz=1)\n",
    "        self.declare_readout(ch=ro_ch, length=cfg['ro_len'], freq=cfg['freq'], gen_ch=gen_ch)\n",
    "\n",
    "        self.add_loop(\"myloop\", self.cfg[\"steps\"])\n",
    "\n",
    "        self.add_pulse(ch=gen_ch, name=\"myconst\", ro_ch=ro_ch, \n",
    "                       style=\"const\", \n",
    "                       length=cfg['pulse_len'], \n",
    "                       freq=cfg['freq'], \n",
    "                       phase=cfg['pulse_phase'],\n",
    "                       gain=cfg['pulse_gain'],\n",
    "                      )\n",
    "        \n",
    "    def _body(self, cfg):\n",
    "        self.pulse(ch=cfg['gen_ch'], name=\"myconst\", t=0)\n",
    "        self.trigger(ros=[cfg['ro_ch']], pins=[0], t=cfg['trig_time'])\n"
   ]
  },
  {
   "cell_type": "code",
   "execution_count": null,
   "metadata": {},
   "outputs": [],
   "source": [
    "# do a sweep with 5 points and plot decimated\n",
    "config = {\n",
    "    ## Sweep Params: ##\n",
    "    'steps': 5,\n",
    "    ## Channel Params. ##\n",
    "    'gen_ch': GEN_CH0,\n",
    "    'ro_ch': RO_CH0,\n",
    "    ## Pulse Params. ##\n",
    "    'freq': 1000, # [MHz]\n",
    "    'pulse_len': 0.1, # [us]\n",
    "    'pulse_phase': 0, # [deg]\n",
    "    'pulse_gain': QickSweep1D(\"myloop\", 0.0, 1.0), # [DAC units]\n",
    "    ## Readout Params. ##\n",
    "    'trig_time': 0.35, # [us]\n",
    "    'ro_len': 0.3, # [us]\n",
    "     }\n",
    "\n",
    "prog = SimpleSweepProgram(soccfg, reps=1, final_delay=0.5, cfg=config)\n",
    "\n",
    "iq_list = prog.acquire_decimated(soc, soft_avgs=100)\n",
    "t = prog.get_time_axis(ro_index=0)"
   ]
  },
  {
   "cell_type": "code",
   "execution_count": null,
   "metadata": {},
   "outputs": [],
   "source": [
    "for ii, iq in enumerate(iq_list[0]):\n",
    "    # plt.plot(t, iq[:,0], label=\"I value, step %d\"%(ii))\n",
    "    # plt.plot(iq[:,1], label=\"Q value, step %d\"%(ii))\n",
    "    plt.plot(np.abs(iq.dot([1,1j])), label=\"mag, step %d\"%(ii))\n",
    "plt.legend()\n",
    "plt.ylabel(\"a.u.\")\n",
    "plt.xlabel(\"us\");"
   ]
  },
  {
   "cell_type": "markdown",
   "metadata": {},
   "source": [
    "### Sweeping over multiple variables (still 1D)\n",
    "\n",
    "Now we will sweep over both the pulse phase and gain"
   ]
  },
  {
   "cell_type": "code",
   "execution_count": null,
   "metadata": {},
   "outputs": [],
   "source": [
    "class SimpleSweepProgram(AveragerProgramV2):\n",
    "    def _initialize(self, cfg):\n",
    "        ro_ch = cfg['ro_ch']\n",
    "        gen_ch = cfg['gen_ch']\n",
    "        \n",
    "        self.declare_gen(ch=gen_ch, nqz=1)\n",
    "        self.declare_readout(ch=ro_ch, length=cfg['ro_len'], freq=cfg['freq'], gen_ch=gen_ch)\n",
    "\n",
    "        self.add_loop(\"myloop\", self.cfg[\"steps\"])\n",
    "\n",
    "        self.add_pulse(ch=gen_ch, name=\"myconst\", ro_ch=ro_ch, \n",
    "                       style=\"const\", \n",
    "                       length=cfg['pulse_len'], \n",
    "                       freq=cfg['freq'], \n",
    "                       phase=cfg['pulse_phase'],\n",
    "                       gain=cfg['pulse_gain'],\n",
    "                      )\n",
    "        \n",
    "    def _body(self, cfg):\n",
    "        self.pulse(ch=cfg['gen_ch'], name=\"myconst\", t=0)\n",
    "        self.trigger(ros=[cfg['ro_ch']], pins=[0], t=cfg['trig_time'])\n"
   ]
  },
  {
   "cell_type": "code",
   "execution_count": null,
   "metadata": {},
   "outputs": [],
   "source": [
    "# do a sweep with 5 points and plot decimated\n",
    "config = {\n",
    "    ## Sweep Params: ##\n",
    "    'steps': 5,\n",
    "    ## Channel Params. ##\n",
    "    'gen_ch': GEN_CH0,\n",
    "    'ro_ch': RO_CH0,\n",
    "    ## Pulse Params. ##\n",
    "    'freq': 1000, # [MHz]\n",
    "    'pulse_len': 0.1, # [us]\n",
    "    'pulse_phase': QickSweep1D(\"myloop\", -360, 720), # [deg]\n",
    "    'pulse_gain': QickSweep1D(\"myloop\", 0.0, 1.0), # [DAC units]\n",
    "    ## Readout Params. ##\n",
    "    'trig_time': 0.35, # [us]\n",
    "    'ro_len': 0.3, # [us]\n",
    "     }\n",
    "\n",
    "prog = SimpleSweepProgram(soccfg, reps=1, final_delay=0.5, cfg=config)\n",
    "\n",
    "iq_list = prog.acquire_decimated(soc, soft_avgs=100)\n",
    "t = prog.get_time_axis(ro_index=0)"
   ]
  },
  {
   "cell_type": "code",
   "execution_count": null,
   "metadata": {},
   "outputs": [],
   "source": [
    "for ii, iq in enumerate(iq_list[0]):\n",
    "    plt.plot(t, iq[:,0], label=\"I value, step %d\"%(ii))\n",
    "    # plt.plot(iq[:,1], label=\"Q value, step %d\"%(ii))\n",
    "    # plt.plot(np.abs(iq.dot([1,1j])), label=\"mag, step %d\"%(ii))\n",
    "plt.legend()\n",
    "plt.ylabel(\"a.u.\")\n",
    "plt.xlabel(\"us\");"
   ]
  },
  {
   "cell_type": "markdown",
   "metadata": {},
   "source": [
    "We can also do higher-resolution sweeps using the <code> acquire()</code> function"
   ]
  },
  {
   "cell_type": "code",
   "execution_count": null,
   "metadata": {},
   "outputs": [],
   "source": [
    "config['steps']=201\n",
    "prog = SimpleSweepProgram(soccfg, reps=100, final_delay=1.0, cfg=config)\n",
    "iq_list = prog.acquire(soc, soft_avgs=1, progress=True)\n",
    "# plt.plot(np.angle(iq_list[0][0].dot([1,1j]), deg=True))\n",
    "plt.plot(iq_list[0][0,:,0], iq_list[0][0,:,1])\n",
    "plt.ylabel(\"Q\")\n",
    "plt.xlabel(\"I\");"
   ]
  },
  {
   "cell_type": "markdown",
   "metadata": {},
   "source": [
    "Lastly, we can also sweep the length of the pulses"
   ]
  },
  {
   "cell_type": "code",
   "execution_count": null,
   "metadata": {},
   "outputs": [],
   "source": [
    "# do a sweep with 5 points and plot decimated\n",
    "config = {\n",
    "    ## Sweep Params: ##\n",
    "    'steps': 5,\n",
    "    ## Channel Params. ##\n",
    "    'gen_ch': GEN_CH0,\n",
    "    'ro_ch': RO_CH0,\n",
    "    ## Pulse Params. ##\n",
    "    'freq': 1000, # [MHz]\n",
    "    'pulse_len': QickSweep1D('myloop', 0.05, 0.15), # [us]\n",
    "    'pulse_phase': 0, # [deg]\n",
    "    'pulse_gain': 1.0, # [DAC units]\n",
    "    ## Readout Params. ##\n",
    "    'trig_time': 0.35, # [us]\n",
    "    'ro_len': 0.3, # [us]\n",
    "     }\n",
    "\n",
    "prog = SimpleSweepProgram(soccfg, reps=1, final_delay=0.5, cfg=config)\n",
    "\n",
    "iq_list = prog.acquire_decimated(soc, soft_avgs=100)\n",
    "t = prog.get_time_axis(ro_index=0)"
   ]
  },
  {
   "cell_type": "code",
   "execution_count": null,
   "metadata": {},
   "outputs": [],
   "source": [
    "for ii, iq in enumerate(iq_list[0]):\n",
    "    # plt.plot(t, iq[:,0], label=\"I value, step %d\"%(ii))\n",
    "    # plt.plot(iq[:,1], label=\"Q value, step %d\"%(ii))\n",
    "    plt.plot(np.abs(iq.dot([1,1j])), label=\"mag, step %d\"%(ii))\n",
    "plt.legend()\n",
    "plt.ylabel(\"a.u.\")\n",
    "plt.xlabel(\"us\");"
   ]
  },
  {
   "cell_type": "markdown",
   "metadata": {},
   "source": [
    "### Multi-Dimensional Loops and Sweeps\n",
    "\n",
    "If you want an N-dimensional looping program, you just need to call add_loop() multiple times. Each swept value should reference the name of the loop you want the sweep to happen in. (You can sweep over the \"reps\" loop if you want, but then your averaging will not make sense.)\n",
    "\n",
    "If you want a value that gets swept in more than one loop level, you need to build a sweep object by summing the initial value with some \"spans,\" where each span is the range that you sweep over in a given loop.\n",
    "QickSweep1D is actually just a convenience function that builds a 1-D sweep using this machinery.\n",
    "\n",
    "Just for fun, we'll also trigger the DDR4 and MR buffers in this program."
   ]
  },
  {
   "cell_type": "code",
   "execution_count": null,
   "metadata": {},
   "outputs": [],
   "source": [
    "class Sweep2DProgram(AveragerProgramV2):\n",
    "    def _initialize(self, cfg):\n",
    "        ro_ch = cfg['ro_ch']\n",
    "        gen_ch = cfg['gen_ch']\n",
    "        \n",
    "        self.declare_gen(ch=gen_ch, nqz=1)\n",
    "        self.declare_readout(ch=ro_ch, length=cfg['ro_len'], freq=cfg['freq'], gen_ch=gen_ch)\n",
    "\n",
    "        self.add_loop(\"loop1\", self.cfg[\"steps1\"]) # outer loop\n",
    "        self.add_loop(\"loop2\", self.cfg[\"steps2\"]) # inner loop\n",
    "        # the reps loop is always outermost\n",
    "        # so the order and the shape of the raw data will be (reps, loop1, loop2)\n",
    "\n",
    "        self.add_pulse(ch=gen_ch, name=\"myconst\", ro_ch=ro_ch, \n",
    "                       style=\"const\", \n",
    "                       length=cfg['pulse_len'], \n",
    "                       freq=cfg['freq'], \n",
    "                       phase=cfg['pulse_phase'],\n",
    "                       gain=cfg['pulse_gain'],\n",
    "                      )\n",
    "        \n",
    "    def _body(self, cfg):\n",
    "        self.pulse(ch=cfg['gen_ch'], name=\"myconst\", t=0)\n",
    "        self.trigger(ros=[cfg['ro_ch']], pins=[0], t=cfg['trig_time'])\n"
   ]
  },
  {
   "cell_type": "code",
   "execution_count": null,
   "metadata": {},
   "outputs": [],
   "source": [
    "# We will sweep over the gain in both loop levels\n",
    "config = {\n",
    "    ## Sweep Params: ##\n",
    "    'steps1': 100,\n",
    "    'steps2': 50,\n",
    "    ## Channel Params. ##\n",
    "    'gen_ch': GEN_CH0,\n",
    "    'ro_ch': RO_CH0,\n",
    "    ## Pulse Params. ##\n",
    "    'freq': 1000, # [MHz]\n",
    "    'pulse_len': 0.1, # [us]\n",
    "    'pulse_phase': 0, # [deg]\n",
    "    # initial value 0.4, sweep by 0.5 in loop1 and by 0.1 in loop2, in other words:\n",
    "    # the very first shot is 0.4\n",
    "    # the first loop2 sweep runs from 0.4 to 0.5\n",
    "    # the last loop2 sweep runs from 0.9 to 1.0\n",
    "    'pulse_gain': 0.4 + QickSpan(\"loop1\", 0.5) + QickSpan(\"loop2\", 0.1), # [DAC units]\n",
    "    ## Readout Params. ##\n",
    "    'trig_time': 0.35, # [us]\n",
    "    'ro_len': 0.3, # [us]\n",
    "     }\n",
    "\n",
    "prog = Sweep2DProgram(soccfg, reps=100, final_delay=0.5, cfg=config)\n",
    "\n",
    "iq_list = prog.acquire(soc, soft_avgs=100, progress=True)\n",
    "t = prog.get_time_axis(ro_index=0)"
   ]
  },
  {
   "cell_type": "code",
   "execution_count": null,
   "metadata": {},
   "outputs": [],
   "source": [
    "mag = np.abs(iq_list[0][0].dot([1,1j]))\n",
    "plt.colorbar(plt.pcolormesh(mag/mag.max()))\n",
    "plt.title(\"magnitude\")\n",
    "plt.ylabel(\"step index, loop 1\")\n",
    "plt.xlabel(\"step index, loop 2\");"
   ]
  },
  {
   "cell_type": "markdown",
   "metadata": {},
   "source": [
    "Now sweeping over both gain and phase"
   ]
  },
  {
   "cell_type": "code",
   "execution_count": null,
   "metadata": {},
   "outputs": [],
   "source": [
    "# We will sweep over the gain in both loop levels\n",
    "config = {\n",
    "    ## Sweep Params: ##\n",
    "    'steps1': 100,\n",
    "    'steps2': 50,\n",
    "    ## Channel Params. ##\n",
    "    'gen_ch': GEN_CH0,\n",
    "    'ro_ch': RO_CH0,\n",
    "    ## Pulse Params. ##\n",
    "    'freq': 1000, # [MHz]\n",
    "    'pulse_len': 0.1, # [us]\n",
    "    'pulse_phase': QickSweep1D('loop2', 0, 360), # [deg]\n",
    "    'pulse_gain': QickSweep1D('loop1', 0.0, 1.0), # [DAC units]\n",
    "    ## Readout Params. ##\n",
    "    'trig_time': 0.35, # [us]\n",
    "    'ro_len': 0.3, # [us]\n",
    "     }\n",
    "\n",
    "prog = Sweep2DProgram(soccfg, reps=100, final_delay=0.5, cfg=config)\n",
    "\n",
    "iq_list = prog.acquire(soc, soft_avgs=10, progress=True)\n",
    "t = prog.get_time_axis(ro_index=0)"
   ]
  },
  {
   "cell_type": "code",
   "execution_count": null,
   "metadata": {},
   "outputs": [],
   "source": [
    "fig, axes = plt.subplots(2, 2, figsize=(12,12))\n",
    "\n",
    "# get the exact values of the parameters, after rounding - this also works for scalars, you will just get a float\n",
    "phases = prog.get_pulse_param(\"myconst\", \"phase\", as_array=True)\n",
    "gains = prog.get_pulse_param(\"myconst\", \"gain\", as_array=True)\n",
    "\n",
    "plot = axes[0,0]\n",
    "plt.colorbar(plot.pcolormesh(phases, gains, iq_list[0][0,:,:,0]), ax=plot)\n",
    "plot.set_title(\"I\")\n",
    "plot.set_ylabel(\"gain\")\n",
    "plot.set_xlabel(\"phase\")\n",
    "plot = axes[0,1]\n",
    "plt.colorbar(plot.pcolormesh(phases, gains, iq_list[0][0,:,:,1]), ax=plot)\n",
    "plot.set_title(\"Q\")\n",
    "plot.set_ylabel(\"gain\")\n",
    "plot.set_xlabel(\"phase\")\n",
    "\n",
    "plot = axes[1,0]\n",
    "plt.colorbar(plot.pcolormesh(phases, gains, np.abs(iq_list[0][0].dot([1,1j]))), ax=plot)\n",
    "plot.set_title(\"magnitude\")\n",
    "plot.set_ylabel(\"gain\")\n",
    "plot.set_xlabel(\"phase\")\n",
    "\n",
    "plot = axes[1,1]\n",
    "plt.colorbar(plot.pcolormesh(phases, gains, np.unwrap(np.angle(iq_list[0][0].dot([1,1j])), axis=1)), ax=plot)\n",
    "plot.set_title(\"phase\")\n",
    "plot.set_ylabel(\"gain\")\n",
    "plot.set_xlabel(\"phase\");"
   ]
  },
  {
   "cell_type": "markdown",
   "metadata": {},
   "source": [
    "### Timeline Management\n",
    "* you can sweep almost any time/duration parameter:\n",
    "    * time parameter for pulse/trigger\n",
    "    * time parameter for delay\n",
    "    * length of a const pulse or the flat segment of a flat-top pulse\n",
    "* \"auto\" (for pulse times and delay/wait) is smarter now\n",
    "    * if your sweeps result in the end of the last pulse/readout getting swept relative to the reference time, \"auto\" should correctly account for this\n",
    "    * if you use a delay that doesn't push the reference time past the end-of-pulse, the end-of-pulse will be decremented by the delay (in v1 this was all-or-nothing, sync_all would zero all end-of-pulse timestamps but synci would do nothing)\n",
    "    * you can tell wait_auto/delay_auto to ignore generator times or readout times - the default (same as v1) is that wait_auto pays attention to readouts only, while delay_auto pays attention to both gens and ROs\n",
    "* while \"auto\" is smarter now, I still want to encourage using explicit times when possible\n",
    "    * this is easier now that all times and durations are in the same units, right?\n",
    "    * my instinct is that it's safer if people \"keep their hands on the wheel\" - make them think about what they are doing, vs. letting them rely on safe-ish defaults\n",
    "    * \"auto\" is still somewhat fragile - it doesn't know about jumps, there are probably some edge cases (multiple channels with swept times?) where the math doesn't work out\n",
    "    * swept times consume registers, which are somewhat precious (print(prog) will list all the allocated registers)\n",
    "    * for this reason, the default t in `pulse()` is now 0, not auto (as it was in v1)"
   ]
  },
  {
   "cell_type": "code",
   "execution_count": null,
   "metadata": {},
   "outputs": [],
   "source": []
  }
 ],
 "metadata": {
  "kernelspec": {
   "display_name": "Python 3",
   "language": "python",
   "name": "python3"
  },
  "language_info": {
   "codemirror_mode": {
    "name": "ipython",
    "version": 3
   },
   "file_extension": ".py",
   "mimetype": "text/x-python",
   "name": "python",
   "nbconvert_exporter": "python",
   "pygments_lexer": "ipython3",
   "version": "3.11.4"
  }
 },
 "nbformat": 4,
 "nbformat_minor": 2
}
